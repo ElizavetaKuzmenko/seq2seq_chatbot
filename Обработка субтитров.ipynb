{
 "cells": [
  {
   "cell_type": "markdown",
   "metadata": {},
   "source": [
    "# Обработка субтитров\n",
    "\n",
    "## Кодировки\n",
    "\n",
    "У меня есть около 2000 файлов с субтитрами в формате srt, однако у них у всех разная кодировка - некоторые в UTF-8, некоторые - в CP-1251. Напишем код, чтобы привести все файлы к юникоду."
   ]
  },
  {
   "cell_type": "code",
   "execution_count": 3,
   "metadata": {
    "collapsed": false
   },
   "outputs": [],
   "source": [
    "import os"
   ]
  },
  {
   "cell_type": "markdown",
   "metadata": {},
   "source": [
    "Пример определения кодировки:"
   ]
  },
  {
   "cell_type": "code",
   "execution_count": 12,
   "metadata": {
    "collapsed": false
   },
   "outputs": [
    {
     "name": "stdout",
     "output_type": "stream",
     "text": [
      "1\n",
      "00:01:35,500 --> 00:01:36,000\n",
      "Десять.\n",
      "\n",
      "2\n",
      "00:01:36,540 --> 00:01:37,040\n",
      "Девять.\n",
      "\n",
      "3\n",
      "00:01:37,540 -->\n"
     ]
    }
   ],
   "source": [
    "FROM_DIR = './subs'\n",
    "\n",
    "files = os.listdir(FROM_DIR)\n",
    "fname = os.path.join(FROM_DIR, files[0])\n",
    "s = os.popen('chardetect \"' + fname + '\"').read()  # используем утилиту для командной строки chardetect\n",
    "enc = s.replace(fname+':', '').strip().split()[0]\n",
    "\n",
    "with open(fname, 'r', encoding=enc) as f:\n",
    "    subs = f.read()\n",
    "    print(subs[:100])"
   ]
  },
  {
   "cell_type": "markdown",
   "metadata": {},
   "source": [
    "А теперь пройдемся по всем файлам:"
   ]
  },
  {
   "cell_type": "code",
   "execution_count": null,
   "metadata": {
    "collapsed": true
   },
   "outputs": [],
   "source": [
    "FROM_DIR = './subs'\n",
    "TO_DIR = './converted_subs'\n",
    "\n",
    "n = 0\n",
    "for file in os.listdir(FROM_DIR)[290:]:\n",
    "    fname = os.path.join(FROM_DIR, file)\n",
    "    # detect encoding\n",
    "    s = os.popen('chardetect \"' + fname + '\"').read()\n",
    "    enc = s.replace(fname+':', '').strip().split()[0]\n",
    "\n",
    "    try:\n",
    "        with open(fname, 'r', encoding=enc) as f:\n",
    "            subs = f.read()\n",
    "    \n",
    "        with open(os.path.join(TO_DIR, file), 'w', encoding='utf-8') as f:\n",
    "            f.write(subs)\n",
    "        if n % 200 == 0:\n",
    "            print('>> processed {} files.'.format(n))\n",
    "        n += 1\n",
    "    except:\n",
    "        print('Could not detect encoding of {}'.format(file))"
   ]
  },
  {
   "cell_type": "markdown",
   "metadata": {},
   "source": [
    "## Реплики и ответы\n",
    "Теперь нам нужно из всех субтитров собрать все высказывания в виде - Реплика+Ответ. И очистить реплики от мусора."
   ]
  },
  {
   "cell_type": "code",
   "execution_count": 5,
   "metadata": {
    "collapsed": true
   },
   "outputs": [],
   "source": [
    "import re\n",
    "import random\n",
    "DIR = './converted_subs'\n",
    "files = os.listdir(DIR)\n",
    "reTag = re.compile('<.*?>')\n",
    "BAD_SYMBOLS = {'’', '≈', '√', '¬', '€', '“', '”', '∆', '„'}"
   ]
  },
  {
   "cell_type": "markdown",
   "metadata": {},
   "source": [
    "Функция для чистки субтитров:"
   ]
  },
  {
   "cell_type": "code",
   "execution_count": 6,
   "metadata": {
    "collapsed": false
   },
   "outputs": [],
   "source": [
    "def cleaned(text):\n",
    "    utterances = []\n",
    "    for p in text.split('\\n\\n'):\n",
    "        p = p.strip().split('\\n')\n",
    "        if len(p) < 3:\n",
    "            continue\n",
    "        p = reTag.sub('', ' '.join(p[2:]).strip()).replace('ƒ', 'д').replace('ќ', 'о')\n",
    "        if any(i in p for i in BAD_SYMBOLS):\n",
    "            continue\n",
    "        if p:\n",
    "            utterances.append(p)\n",
    "    return utterances"
   ]
  },
  {
   "cell_type": "markdown",
   "metadata": {},
   "source": [
    "Проверим, как она работает:"
   ]
  },
  {
   "cell_type": "code",
   "execution_count": 7,
   "metadata": {
    "collapsed": false
   },
   "outputs": [
    {
     "name": "stdout",
     "output_type": "stream",
     "text": [
      "C:\\Users\\Admin\\Desktop\\магистратура\\машобуч\\converted_subs\\.hack Gift OVA [SuYu].srt\n",
      "['десять.', 'девять.', 'восемь.', 'семь.', 'шесть.', 'пять.', 'четыре.', 'три.', 'два.', 'всем, кто балдеет от серии наших игр:', 'огромное спасибо!', 'что бы выразить благодарность, позвольте мне...', 'поздравления.', 'в знак моей благодарности, я приготовила путешествие к горячим источникам в мире.', 'вы можете неплохо отдохнуть,', 'но путь к источникам спрятан, и найти его не так то просто.', 'на время поисков, можете забыть о целях игры.', 'всем удачи.', 'нежданчик', '[барманк лазурного неба]', 'эх, дождь...', 'дождь прекрасен, как и я, барманк лазурного неба.', '[орка]', 'орка (труп) [фактически медведь].', 'это... невозможно...', 'ааааааааа! смотри, что он вымочил!', 'ооо! блин! что ж это делается?!!', '[кайт, блэкроуз.]', 'он убил его! убийца! пойду-ка я пожалуюсь!', 'подожди минутку. это огромное недоразумение.', 'зачем вдруг мне убивать орку?', 'между вами был спор, так ведь?', 'нет.', 'вы разозлились, началась драка... и вот.', 'неправда! ты же знаешь кайт! я не убивал орку.', 'так это был ты...', 'блиииииииин....', 'что значит \"это был ты...\"? хватит шуток!', '[цукаса, мимиру.]', 'отмучался...', 'чегоооооооо?!!', 'нет, стой! это не я...', 'а, так это ты сделал...', 'нет, говорю же, не я!..', 'значит это он сделал...', 'хватит издеваться, это не я!!!', '[гинкан, субару, крим.]', 'а, субару, ты пришла.', 'не сейчас, мы заняты.', 'что здесь делается?']\n"
     ]
    }
   ],
   "source": [
    "fname = os.path.join(DIR, files[0])\n",
    "print(fname)\n",
    "with open(fname, 'r', encoding='utf-8') as f:\n",
    "    subs = cleaned(f.read().lower())\n",
    "print(subs[:50])"
   ]
  },
  {
   "cell_type": "markdown",
   "metadata": {},
   "source": [
    "Обработаем все субтитры:"
   ]
  },
  {
   "cell_type": "code",
   "execution_count": 8,
   "metadata": {
    "collapsed": false
   },
   "outputs": [
    {
     "name": "stdout",
     "output_type": "stream",
     "text": [
      ">> processed 0 files.\n",
      ">> processed 200 files.\n",
      ">> processed 400 files.\n",
      ">> processed 600 files.\n",
      ">> processed 800 files.\n",
      ">> processed 1000 files.\n",
      ">> processed 1200 files.\n",
      ">> processed 1400 files.\n",
      ">> processed 1600 files.\n",
      ">> processed 1800 files.\n",
      ">> processed 2000 files.\n",
      "682561 682561\n"
     ]
    }
   ],
   "source": [
    "q = []\n",
    "a = []\n",
    "\n",
    "n = 0\n",
    "for file in files:\n",
    "    fname = os.path.join(DIR, file)\n",
    "    with open(fname, 'r', encoding='utf-8') as f:\n",
    "        subs = cleaned(f.read().lower())\n",
    "    for num in range(1, len(subs)):\n",
    "        q.append(subs[num-1])\n",
    "        a.append(subs[num])\n",
    "    if n % 200 == 0:\n",
    "        print('>> processed {} files.'.format(n))\n",
    "    n += 1\n",
    "    \n",
    "print(len(q), len(a))"
   ]
  },
  {
   "cell_type": "markdown",
   "metadata": {},
   "source": [
    "Распечатаем для проверки несколько случайных реплик:"
   ]
  },
  {
   "cell_type": "code",
   "execution_count": 9,
   "metadata": {
    "collapsed": false
   },
   "outputs": [
    {
     "name": "stdout",
     "output_type": "stream",
     "text": [
      "['мы позаботимся об остальном.', 'надо бы денежку подготовить.', 'круто!', 'конечно.', '[языки пламени достигали 20 метров] [томое хотару - 9 лет и профессор соичи томое] весь научно-исследовательский персонал погиб...', '[это козо]', 'а что?', 'что? значит, все эти продажи коту насмарку?', '[бинбо, 17 лет]', '[указания по изменению планов захвата города текст: штаб квартира акросс музыка и аранжировка: тохио масуда исполнитель: кей]', 'я сейчас прикончу эту девчонку!', 'её используют против демона, которого иначе не победить.', 'доброе утро мисс ребекка!', 'как там дело с этим саругами?', 'хватит уже о харуко-сан!!', 'что это вы двое делаете?', 'like a...date?', 'ты был прав. мы ничего не сможем здесь для нее сделать.', 'что...', 'и вдруг ты говоришь \"я проголодался, дай чего-нибудь пожевать\" - а затем начинаешь ковыряться в моей сумке!', 'инуяша...', 'самом сильном воине из легенд - сейлор мун.', 'как мило!', 'алло, айти?', 'прошу простить, но в михаре есть люди,  которые когда-то мне помогли.  я бы хотел с ними связаться.', 'ёто очень плохо.', '- майкл, вы вроде не особо сопротивляетесь.', 'мне бы понравилось быть на одном из них.', 'i find you enchanting.', 'но он был достаточно умен для того, чтобы уничтожить флот домана!', 'да, были довольно жестокие будни, верно, нептун?', 'ваши доказательства...', 'хотя у нее были сомнения, существует ли она как личность на самом деле,', 'а это тебе.', 'это время не слишком подходит для прогулки, госпожа.', 'you see, i heard that benibana should be picked in the early morning, when the dew makes the thorns soft.', 'щупать задницу.', 'кто ты?', 'а как вам эти крутые ножки у стола?', 'ладно.', 'кацу, как другу скажу, план ужасный.', 'i listen closely and go find it', 'и это значит что эта миссия, запрос на которую я принял,', 'что? правда? а откуда она тогда?', 'похоже, что мы окружены.', 'эй! чего?', 'в таком случае, мы должны обсудить условия.', '- да к черту вашу маму! - что ты сказал о ней?', 'заберите нас, как только воды будет достаточно.', 'some luxurious house, eh?', 'на некоторое время... я останусь в тени.', 'дяденька ушёл…', '- мошенничество? как грубо. - это мошенничество!', 'ты правда так считаешь?', 'бегите.', 'но мне она так понравилась.', 'годо так и не пришел?', 'что вы говорите?', 'в период, отстоящий от нашего на 500 лет...', '\"...тот ребёнок снова может попасть ко мне.\"', 'чуточку внимания, пожалуйста?', 'мы ведь беспокоились о нём... мог бы и не орать так.', 'да.', 'там были все протоколы свидетельских показаний и списки имён.', 'ты же спас девушку.', 'русский перевод: svart, (c)2003 http://svart.animeworld.ru', 'это... а хагу-тян где?', 'да. это как фотомонтаж в журналах.', 'а?', 'нет, не трогай мою еву!', '...в самом деле такой тупой?', 'да, именно так. энергия любви.', 'махо исава разгадывает её подлинную натуру и пользуясь своим влиянием', 'вы собираетесь убить его?', 'ты как себя чувствуешь?', 'в чём дело? ты кажешься расстроенной.', 'прекрасно отделался.', 'тебе нравится, что другие зависят от тебя!', 'давай, подвезу.', 'чороу! ты проснулся!', 'а может, это ты сам съел, а теперь...', 'уходи. скорее.', \"hey enough of these things, go get your sister, 'cause dinner's almost ready.\", 'посмотрим-ка...', 'это была не я.', 'они такие не из-за какого-то морального веления.', 'что?!!', 'рей, твой папа мертв!', 'а кто на моей стороне?', 'я не хотел на тебя срываться.', 'детишки, узнав, чем занимается их папаша, сойдут с ума...', 'если откажешься - ты проиграл!', '-слушайте, мне нужны долбаные ответы!', '...человек, который звонит в черный похоронный колокол...', 'у неё восхитительные ушки!', 'dante!', 'я и не догадывался, как мне повезет с заложником.', 'с таким лицом как у тебя не скажешь, что все в порядке.', 'он что-то говорил про то, что сломал печать.', 'пройду низко над водой, используя реактивную тягу.']\n"
     ]
    }
   ],
   "source": [
    "print(random.sample(q, 100))"
   ]
  },
  {
   "cell_type": "markdown",
   "metadata": {},
   "source": [
    "## Подготовка данных"
   ]
  },
  {
   "cell_type": "code",
   "execution_count": 10,
   "metadata": {
    "collapsed": true
   },
   "outputs": [],
   "source": [
    "def prepare_seq2seq_files(questions, answers, path='', TESTSET_SIZE = 30000):\n",
    "    \n",
    "    # open files\n",
    "    train_enc = open(path + 'train.enc','w', encoding='utf-8')\n",
    "    train_dec = open(path + 'train.dec','w', encoding='utf-8')\n",
    "    test_enc  = open(path + 'test.enc', 'w', encoding='utf-8')\n",
    "    test_dec  = open(path + 'test.dec', 'w', encoding='utf-8')\n",
    "\n",
    "    # choose 30,000 (TESTSET_SIZE) items to put into testset\n",
    "    test_ids = random.sample([i for i in range(len(questions))],TESTSET_SIZE)\n",
    "\n",
    "    for i in range(len(questions)):\n",
    "        try:\n",
    "            if i in test_ids:\n",
    "                test_enc.write(questions[i]+'\\n')\n",
    "                test_dec.write(answers[i]+ '\\n' )\n",
    "            else:\n",
    "                train_enc.write(questions[i]+'\\n')\n",
    "                train_dec.write(answers[i]+ '\\n' )\n",
    "            if i%10000 == 0:\n",
    "                print ('>> written {} lines'.format(i))\n",
    "        except UnicodeEncodeError:\n",
    "            print(questions[i], answers[i])\n",
    "\n",
    "    # close files\n",
    "    train_enc.close()\n",
    "    train_dec.close()\n",
    "    test_enc.close()\n",
    "    test_dec.close()"
   ]
  },
  {
   "cell_type": "code",
   "execution_count": null,
   "metadata": {
    "collapsed": true
   },
   "outputs": [],
   "source": [
    "prepare_seq2seq_files(q, a, TESTSET_SIZE = 80000, \n",
    "                      path=r\"./tensorflow_chatbot/working_dir/\")"
   ]
  },
  {
   "cell_type": "code",
   "execution_count": null,
   "metadata": {
    "collapsed": true
   },
   "outputs": [],
   "source": []
  }
 ],
 "metadata": {
  "kernelspec": {
   "display_name": "Python 3",
   "language": "python",
   "name": "python3"
  },
  "language_info": {
   "codemirror_mode": {
    "name": "ipython",
    "version": 3
   },
   "file_extension": ".py",
   "mimetype": "text/x-python",
   "name": "python",
   "nbconvert_exporter": "python",
   "pygments_lexer": "ipython3",
   "version": "3.5.3"
  }
 },
 "nbformat": 4,
 "nbformat_minor": 1
}
